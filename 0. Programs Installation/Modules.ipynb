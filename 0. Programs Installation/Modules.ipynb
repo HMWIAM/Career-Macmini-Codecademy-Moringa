{
 "cells": [
  {
   "attachments": {},
   "cell_type": "markdown",
   "metadata": {},
   "source": [
    "Importing Simulate for codecademy Data Analytics Introduction"
   ]
  },
  {
   "cell_type": "code",
   "execution_count": 1,
   "metadata": {},
   "outputs": [
    {
     "name": "stdout",
     "output_type": "stream",
     "text": [
      "Collecting simulate\n",
      "  Downloading simulate-0.1.2.tar.gz (138 kB)\n",
      "\u001b[K     |████████████████████████████████| 138 kB 167 kB/s eta 0:00:01\n",
      "\u001b[?25h  Installing build dependencies ... \u001b[?25ldone\n",
      "\u001b[?25h  Getting requirements to build wheel ... \u001b[?25ldone\n",
      "\u001b[?25h    Preparing wheel metadata ... \u001b[?25ldone\n",
      "\u001b[?25hCollecting dataclasses-json\n",
      "  Downloading dataclasses_json-0.5.8-py3-none-any.whl (26 kB)\n",
      "Requirement already satisfied: numpy>=1.18 in /home/henry/anaconda3/envs/learn-env/lib/python3.8/site-packages (from simulate) (1.24.3)\n",
      "Collecting scikit-build>=0.5\n",
      "  Using cached scikit_build-0.17.6-py3-none-any.whl (84 kB)\n",
      "Collecting pybind11>=2.10.0\n",
      "  Using cached pybind11-2.10.4-py3-none-any.whl (222 kB)\n",
      "Collecting vtk>=9.0\n",
      "  Downloading vtk-9.2.6-cp38-cp38-manylinux_2_17_x86_64.manylinux2014_x86_64.whl (79.3 MB)\n",
      "\u001b[K     |████████████████████████████████| 79.3 MB 67 kB/s  eta 0:00:01\n",
      "\u001b[?25hCollecting huggingface-hub>=0.10\n",
      "  Downloading huggingface_hub-0.15.1-py3-none-any.whl (236 kB)\n",
      "\u001b[K     |████████████████████████████████| 236 kB 488 kB/s eta 0:00:01\n",
      "\u001b[?25hCollecting pyvista>=0.35\n",
      "  Downloading pyvista-0.39.1-py3-none-any.whl (1.6 MB)\n",
      "\u001b[K     |████████████████████████████████| 1.6 MB 555 kB/s eta 0:00:01\n",
      "\u001b[?25hCollecting marshmallow<4.0.0,>=3.3.0\n",
      "  Downloading marshmallow-3.19.0-py3-none-any.whl (49 kB)\n",
      "\u001b[K     |████████████████████████████████| 49 kB 591 kB/s eta 0:00:01\n",
      "\u001b[?25hCollecting typing-inspect>=0.4.0\n",
      "  Downloading typing_inspect-0.9.0-py3-none-any.whl (8.8 kB)\n",
      "Collecting marshmallow-enum<2.0.0,>=1.5.1\n",
      "  Downloading marshmallow_enum-1.5.1-py2.py3-none-any.whl (4.2 kB)\n",
      "Requirement already satisfied: wheel>=0.32.0 in /home/henry/anaconda3/envs/learn-env/lib/python3.8/site-packages (from scikit-build>=0.5->simulate) (0.35.1)\n",
      "Requirement already satisfied: packaging in /home/henry/anaconda3/envs/learn-env/lib/python3.8/site-packages (from scikit-build>=0.5->simulate) (23.1)\n",
      "Collecting distro\n",
      "  Using cached distro-1.8.0-py3-none-any.whl (20 kB)\n",
      "Collecting tomli; python_version < \"3.11\"\n",
      "  Using cached tomli-2.0.1-py3-none-any.whl (12 kB)\n",
      "Requirement already satisfied: setuptools>=42.0.0 in /home/henry/anaconda3/envs/learn-env/lib/python3.8/site-packages (from scikit-build>=0.5->simulate) (50.3.0.post20201103)\n",
      "Requirement already satisfied: matplotlib>=2.0.0 in /home/henry/anaconda3/envs/learn-env/lib/python3.8/site-packages (from vtk>=9.0->simulate) (3.3.1)\n",
      "Collecting filelock\n",
      "  Downloading filelock-3.12.2-py3-none-any.whl (10 kB)\n",
      "Collecting fsspec\n",
      "  Downloading fsspec-2023.6.0-py3-none-any.whl (163 kB)\n",
      "\u001b[K     |████████████████████████████████| 163 kB 312 kB/s eta 0:00:01\n",
      "\u001b[?25hRequirement already satisfied: requests in /home/henry/anaconda3/envs/learn-env/lib/python3.8/site-packages (from huggingface-hub>=0.10->simulate) (2.24.0)\n",
      "Requirement already satisfied: pyyaml>=5.1 in /home/henry/anaconda3/envs/learn-env/lib/python3.8/site-packages (from huggingface-hub>=0.10->simulate) (5.3.1)\n",
      "Collecting typing-extensions>=3.7.4.3\n",
      "  Downloading typing_extensions-4.6.3-py3-none-any.whl (31 kB)\n",
      "Requirement already satisfied: tqdm>=4.42.1 in /home/henry/anaconda3/envs/learn-env/lib/python3.8/site-packages (from huggingface-hub>=0.10->simulate) (4.50.2)\n",
      "Requirement already satisfied: pillow in /home/henry/anaconda3/envs/learn-env/lib/python3.8/site-packages (from pyvista>=0.35->simulate) (7.2.0)\n",
      "Collecting pooch\n",
      "  Downloading pooch-1.7.0-py3-none-any.whl (60 kB)\n",
      "\u001b[K     |████████████████████████████████| 60 kB 394 kB/s eta 0:00:01\n",
      "\u001b[?25hCollecting scooby>=0.5.1\n",
      "  Downloading scooby-0.7.2-py3-none-any.whl (16 kB)\n",
      "Collecting mypy-extensions>=0.3.0\n",
      "  Downloading mypy_extensions-1.0.0-py3-none-any.whl (4.7 kB)\n",
      "Requirement already satisfied: python-dateutil>=2.1 in /home/henry/anaconda3/envs/learn-env/lib/python3.8/site-packages (from matplotlib>=2.0.0->vtk>=9.0->simulate) (2.8.2)\n",
      "Requirement already satisfied: certifi>=2020.06.20 in /home/henry/anaconda3/envs/learn-env/lib/python3.8/site-packages (from matplotlib>=2.0.0->vtk>=9.0->simulate) (2022.12.7)\n",
      "Requirement already satisfied: pyparsing!=2.0.4,!=2.1.2,!=2.1.6,>=2.0.3 in /home/henry/anaconda3/envs/learn-env/lib/python3.8/site-packages (from matplotlib>=2.0.0->vtk>=9.0->simulate) (2.4.7)\n",
      "Requirement already satisfied: kiwisolver>=1.0.1 in /home/henry/anaconda3/envs/learn-env/lib/python3.8/site-packages (from matplotlib>=2.0.0->vtk>=9.0->simulate) (1.2.0)\n",
      "Requirement already satisfied: cycler>=0.10 in /home/henry/anaconda3/envs/learn-env/lib/python3.8/site-packages (from matplotlib>=2.0.0->vtk>=9.0->simulate) (0.10.0)\n",
      "Requirement already satisfied: urllib3!=1.25.0,!=1.25.1,<1.26,>=1.21.1 in /home/henry/anaconda3/envs/learn-env/lib/python3.8/site-packages (from requests->huggingface-hub>=0.10->simulate) (1.25.10)\n",
      "Requirement already satisfied: idna<3,>=2.5 in /home/henry/anaconda3/envs/learn-env/lib/python3.8/site-packages (from requests->huggingface-hub>=0.10->simulate) (2.10)\n",
      "Requirement already satisfied: chardet<4,>=3.0.2 in /home/henry/anaconda3/envs/learn-env/lib/python3.8/site-packages (from requests->huggingface-hub>=0.10->simulate) (3.0.4)\n",
      "Collecting platformdirs>=2.5.0\n",
      "  Downloading platformdirs-3.5.3-py3-none-any.whl (15 kB)\n",
      "Requirement already satisfied: six>=1.5 in /home/henry/anaconda3/envs/learn-env/lib/python3.8/site-packages (from python-dateutil>=2.1->matplotlib>=2.0.0->vtk>=9.0->simulate) (1.15.0)\n",
      "Building wheels for collected packages: simulate\n",
      "  Building wheel for simulate (PEP 517) ... \u001b[?25ldone\n",
      "\u001b[?25h  Created wheel for simulate: filename=simulate-0.1.2-py3-none-any.whl size=220678 sha256=fd67816a174a43b95f5306caa16845d725416654848b16ac59f5d383fe0701c0\n",
      "  Stored in directory: /home/henry/.cache/pip/wheels/88/73/c9/ce8e79ce38038da37a5eb68442fc90793f92c346f45e39d18b\n",
      "Successfully built simulate\n",
      "Installing collected packages: marshmallow, mypy-extensions, typing-extensions, typing-inspect, marshmallow-enum, dataclasses-json, distro, tomli, scikit-build, pybind11, vtk, filelock, fsspec, huggingface-hub, platformdirs, pooch, scooby, pyvista, simulate\n",
      "Successfully installed dataclasses-json-0.5.8 distro-1.8.0 filelock-3.12.2 fsspec-2023.6.0 huggingface-hub-0.15.1 marshmallow-3.19.0 marshmallow-enum-1.5.1 mypy-extensions-1.0.0 platformdirs-3.5.3 pooch-1.7.0 pybind11-2.10.4 pyvista-0.39.1 scikit-build-0.17.6 scooby-0.7.2 simulate-0.1.2 tomli-2.0.1 typing-extensions-4.6.3 typing-inspect-0.9.0 vtk-9.2.6\n"
     ]
    }
   ],
   "source": [
    "# !pip install simulate"
   ]
  },
  {
   "cell_type": "code",
   "execution_count": 2,
   "metadata": {},
   "outputs": [
    {
     "name": "stdout",
     "output_type": "stream",
     "text": [
      "Collecting predict\n",
      "  Downloading PREDICT-3.1.16-py3-none-any.whl (57 kB)\n",
      "\u001b[K     |████████████████████████████████| 57 kB 262 kB/s eta 0:00:011\n",
      "\u001b[?25hCollecting tables>=3.5.1\n",
      "  Downloading tables-3.8.0-cp38-cp38-manylinux_2_17_x86_64.manylinux2014_x86_64.whl (6.5 MB)\n",
      "\u001b[K     |████████████████████████████████| 6.5 MB 386 kB/s eta 0:00:01\n",
      "\u001b[?25hCollecting scikit-image<=0.16.2\n",
      "  Downloading scikit_image-0.16.2-cp38-cp38-manylinux1_x86_64.whl (26.5 MB)\n",
      "\u001b[K     |████████████████████████████████| 26.5 MB 860 kB/s eta 0:00:01\n",
      "\u001b[?25hRequirement already satisfied: numpy>=1.16.3 in /home/henry/anaconda3/envs/learn-env/lib/python3.8/site-packages (from predict) (1.24.3)\n",
      "Requirement already satisfied: scipy>=1.2.1 in /home/henry/anaconda3/envs/learn-env/lib/python3.8/site-packages (from predict) (1.10.1)\n",
      "Requirement already satisfied: pandas>=0.24.2 in /home/henry/anaconda3/envs/learn-env/lib/python3.8/site-packages (from predict) (2.0.2)\n",
      "Collecting pydicom>=1.2.2\n",
      "  Downloading pydicom-2.3.1-py3-none-any.whl (2.0 MB)\n",
      "\u001b[K     |████████████████████████████████| 2.0 MB 996 kB/s eta 0:00:01\n",
      "\u001b[?25hCollecting phasepack>=1.5\n",
      "  Downloading phasepack-1.5.tar.gz (15 kB)\n",
      "Collecting natsort>=5.0.1\n",
      "  Downloading natsort-8.3.1-py3-none-any.whl (38 kB)\n",
      "Collecting configparser>=3.7.4\n",
      "  Downloading configparser-5.3.0-py3-none-any.whl (19 kB)\n",
      "Requirement already satisfied: joblib>=0.10.2 in /home/henry/anaconda3/envs/learn-env/lib/python3.8/site-packages (from predict) (1.2.0)\n",
      "Collecting SimpleITK>=1.2.0\n",
      "  Downloading SimpleITK-2.2.1-cp38-cp38-manylinux_2_17_x86_64.manylinux2014_x86_64.whl (52.7 MB)\n",
      "\u001b[K     |████████████████████████████████| 52.7 MB 754 kB/s eta 0:00:01\n",
      "\u001b[?25hCollecting PyWavelets<=1.0.0,>=0.4.0\n",
      "  Downloading PyWavelets-0.5.2.tar.gz (4.4 MB)\n",
      "\u001b[K     |████████████████████████████████| 4.4 MB 879 kB/s eta 0:00:01\n",
      "\u001b[?25hCollecting pyradiomics>=3.0\n",
      "  Downloading pyradiomics-3.1.0-cp38-cp38-manylinux1_x86_64.whl (190 kB)\n",
      "\u001b[K     |████████████████████████████████| 190 kB 515 kB/s eta 0:00:01\n",
      "\u001b[?25hCollecting blosc2~=2.0.0\n",
      "  Downloading blosc2-2.0.0-cp38-cp38-manylinux_2_17_x86_64.manylinux2014_x86_64.whl (3.9 MB)\n",
      "\u001b[K     |████████████████████████████████| 3.9 MB 781 kB/s eta 0:00:01\n",
      "\u001b[?25hRequirement already satisfied: packaging in /home/henry/anaconda3/envs/learn-env/lib/python3.8/site-packages (from tables>=3.5.1->predict) (23.1)\n",
      "Collecting numexpr>=2.6.2\n",
      "  Downloading numexpr-2.8.4-cp38-cp38-manylinux_2_17_x86_64.manylinux2014_x86_64.whl (381 kB)\n",
      "\u001b[K     |████████████████████████████████| 381 kB 1.5 MB/s eta 0:00:01\n",
      "\u001b[?25hRequirement already satisfied: cython>=0.29.21 in /home/henry/anaconda3/envs/learn-env/lib/python3.8/site-packages (from tables>=3.5.1->predict) (0.29.21)\n",
      "Collecting py-cpuinfo\n",
      "  Downloading py_cpuinfo-9.0.0-py3-none-any.whl (22 kB)\n",
      "Requirement already satisfied: networkx>=2.0 in /home/henry/anaconda3/envs/learn-env/lib/python3.8/site-packages (from scikit-image<=0.16.2->predict) (2.5.1)\n",
      "Requirement already satisfied: pillow>=4.3.0 in /home/henry/anaconda3/envs/learn-env/lib/python3.8/site-packages (from scikit-image<=0.16.2->predict) (7.2.0)\n",
      "Requirement already satisfied: matplotlib!=3.0.0,>=2.0.0 in /home/henry/anaconda3/envs/learn-env/lib/python3.8/site-packages (from scikit-image<=0.16.2->predict) (3.3.1)\n",
      "Collecting imageio>=2.3.0\n",
      "  Downloading imageio-2.31.1-py3-none-any.whl (313 kB)\n",
      "\u001b[K     |████████████████████████████████| 313 kB 1.2 MB/s eta 0:00:01\n",
      "\u001b[?25hRequirement already satisfied: python-dateutil>=2.8.2 in /home/henry/anaconda3/envs/learn-env/lib/python3.8/site-packages (from pandas>=0.24.2->predict) (2.8.2)\n",
      "Requirement already satisfied: tzdata>=2022.1 in /home/henry/anaconda3/envs/learn-env/lib/python3.8/site-packages (from pandas>=0.24.2->predict) (2023.3)\n",
      "Requirement already satisfied: pytz>=2020.1 in /home/henry/anaconda3/envs/learn-env/lib/python3.8/site-packages (from pandas>=0.24.2->predict) (2020.1)\n",
      "Requirement already satisfied: six in /home/henry/anaconda3/envs/learn-env/lib/python3.8/site-packages (from pyradiomics>=3.0->predict) (1.15.0)\n",
      "Collecting pykwalify\n",
      "  Downloading pykwalify-1.8.0-py2.py3-none-any.whl (24 kB)\n",
      "Collecting msgpack\n",
      "  Downloading msgpack-1.0.5-cp38-cp38-manylinux_2_17_x86_64.manylinux2014_x86_64.whl (322 kB)\n",
      "\u001b[K     |████████████████████████████████| 322 kB 1.4 MB/s eta 0:00:01\n",
      "\u001b[?25hRequirement already satisfied: decorator<5,>=4.3 in /home/henry/anaconda3/envs/learn-env/lib/python3.8/site-packages (from networkx>=2.0->scikit-image<=0.16.2->predict) (4.4.2)\n",
      "Requirement already satisfied: pyparsing!=2.0.4,!=2.1.2,!=2.1.6,>=2.0.3 in /home/henry/anaconda3/envs/learn-env/lib/python3.8/site-packages (from matplotlib!=3.0.0,>=2.0.0->scikit-image<=0.16.2->predict) (2.4.7)\n",
      "Requirement already satisfied: cycler>=0.10 in /home/henry/anaconda3/envs/learn-env/lib/python3.8/site-packages (from matplotlib!=3.0.0,>=2.0.0->scikit-image<=0.16.2->predict) (0.10.0)\n",
      "Requirement already satisfied: certifi>=2020.06.20 in /home/henry/anaconda3/envs/learn-env/lib/python3.8/site-packages (from matplotlib!=3.0.0,>=2.0.0->scikit-image<=0.16.2->predict) (2022.12.7)\n",
      "Requirement already satisfied: kiwisolver>=1.0.1 in /home/henry/anaconda3/envs/learn-env/lib/python3.8/site-packages (from matplotlib!=3.0.0,>=2.0.0->scikit-image<=0.16.2->predict) (1.2.0)\n",
      "Collecting docopt>=0.6.2\n",
      "  Downloading docopt-0.6.2.tar.gz (25 kB)\n",
      "Collecting ruamel.yaml>=0.16.0\n",
      "  Downloading ruamel.yaml-0.17.31-py3-none-any.whl (112 kB)\n",
      "\u001b[K     |████████████████████████████████| 112 kB 1.1 MB/s eta 0:00:01\n",
      "\u001b[?25hCollecting ruamel.yaml.clib>=0.2.7; platform_python_implementation == \"CPython\" and python_version < \"3.12\"\n",
      "  Downloading ruamel.yaml.clib-0.2.7-cp38-cp38-manylinux_2_17_x86_64.manylinux2014_x86_64.manylinux_2_24_x86_64.whl (555 kB)\n",
      "\u001b[K     |████████████████████████████████| 555 kB 1.3 MB/s eta 0:00:01\n",
      "\u001b[?25hBuilding wheels for collected packages: phasepack, PyWavelets, docopt\n",
      "  Building wheel for phasepack (setup.py) ... \u001b[?25ldone\n",
      "\u001b[?25h  Created wheel for phasepack: filename=phasepack-1.5-py3-none-any.whl size=26984 sha256=1182df98238b63456f93ad6295da7e5108c967db091171f2f92b7e746be5eaff\n",
      "  Stored in directory: /home/henry/.cache/pip/wheels/c4/c9/8e/6e2318b9f30069caedee0ed0f2e9ac6ba1f3835bd4e779bbe8\n",
      "  Building wheel for PyWavelets (setup.py) ... \u001b[?25ldone\n",
      "\u001b[?25h  Created wheel for PyWavelets: filename=PyWavelets-0.5.2-cp38-cp38-linux_x86_64.whl size=4195013 sha256=4d773e65bd14364408a1dfdd1e2e256ef0e27e0d50cef94d9aa2760bf230932e\n",
      "  Stored in directory: /home/henry/.cache/pip/wheels/8f/e7/f7/21e83281c6f16c46b10400b77a7f730409827cd6329e1df217\n",
      "  Building wheel for docopt (setup.py) ... \u001b[?25ldone\n",
      "\u001b[?25h  Created wheel for docopt: filename=docopt-0.6.2-py2.py3-none-any.whl size=13704 sha256=1482698416cdb0060aff78d25059e559121171ef9ccc12e0533e08e06c5bd9df\n",
      "  Stored in directory: /home/henry/.cache/pip/wheels/56/ea/58/ead137b087d9e326852a851351d1debf4ada529b6ac0ec4e8c\n",
      "Successfully built phasepack PyWavelets docopt\n",
      "Installing collected packages: msgpack, blosc2, numexpr, py-cpuinfo, tables, imageio, PyWavelets, scikit-image, pydicom, phasepack, natsort, configparser, SimpleITK, docopt, ruamel.yaml.clib, ruamel.yaml, pykwalify, pyradiomics, predict\n",
      "\u001b[31mERROR: After October 2020 you may experience errors when installing or updating packages. This is because pip will change the way that it resolves dependency conflicts.\n",
      "\n",
      "We recommend you use --use-feature=2020-resolver to test your packages with the new resolver before it becomes the default.\n",
      "\n",
      "imageio 2.31.1 requires pillow>=8.3.2, but you'll have pillow 7.2.0 which is incompatible.\u001b[0m\n",
      "Successfully installed PyWavelets-0.5.2 SimpleITK-2.2.1 blosc2-2.0.0 configparser-5.3.0 docopt-0.6.2 imageio-2.31.1 msgpack-1.0.5 natsort-8.3.1 numexpr-2.8.4 phasepack-1.5 predict-3.1.16 py-cpuinfo-9.0.0 pydicom-2.3.1 pykwalify-1.8.0 pyradiomics-3.1.0 ruamel.yaml-0.17.31 ruamel.yaml.clib-0.2.7 scikit-image-0.16.2 tables-3.8.0\n"
     ]
    }
   ],
   "source": [
    "# !pip install predict"
   ]
  },
  {
   "cell_type": "code",
   "execution_count": 1,
   "metadata": {},
   "outputs": [
    {
     "name": "stdout",
     "output_type": "stream",
     "text": [
      "Collecting perceptron\n",
      "  Downloading perceptron-1.1.0.tar.gz (6.5 kB)\n",
      "Building wheels for collected packages: perceptron\n",
      "  Building wheel for perceptron (setup.py) ... \u001b[?25ldone\n",
      "\u001b[?25h  Created wheel for perceptron: filename=perceptron-1.1.0-py3-none-any.whl size=7583 sha256=4fc0ada0d44beac979df77e776e6f6da9b38c11c347ed5408144c05429a3362c\n",
      "  Stored in directory: /home/henry/.cache/pip/wheels/40/f8/a9/e5f69039927b1761fc251db6f171da6fc49fb9cf17fadb199b\n",
      "Successfully built perceptron\n",
      "Installing collected packages: perceptron\n",
      "Successfully installed perceptron-1.1.0\n"
     ]
    }
   ],
   "source": [
    "# !pip install perceptron"
   ]
  },
  {
   "cell_type": "code",
   "execution_count": 2,
   "metadata": {},
   "outputs": [
    {
     "name": "stdout",
     "output_type": "stream",
     "text": [
      "Collecting spacy\n",
      "  Downloading spacy-3.5.3-cp38-cp38-manylinux_2_17_x86_64.manylinux2014_x86_64.whl (6.8 MB)\n",
      "\u001b[K     |████████████████████████████████| 6.8 MB 1.1 MB/s eta 0:00:01\n",
      "\u001b[?25hCollecting cymem<2.1.0,>=2.0.2\n",
      "  Downloading cymem-2.0.7-cp38-cp38-manylinux_2_17_x86_64.manylinux2014_x86_64.whl (36 kB)\n",
      "Collecting srsly<3.0.0,>=2.4.3\n",
      "  Downloading srsly-2.4.6-cp38-cp38-manylinux_2_17_x86_64.manylinux2014_x86_64.whl (493 kB)\n",
      "\u001b[K     |████████████████████████████████| 493 kB 1.0 MB/s eta 0:00:01\n",
      "\u001b[?25hCollecting spacy-legacy<3.1.0,>=3.0.11\n",
      "  Downloading spacy_legacy-3.0.12-py2.py3-none-any.whl (29 kB)\n",
      "Collecting langcodes<4.0.0,>=3.2.0\n",
      "  Downloading langcodes-3.3.0-py3-none-any.whl (181 kB)\n",
      "\u001b[K     |████████████████████████████████| 181 kB 900 kB/s eta 0:00:01\n",
      "\u001b[?25hRequirement already satisfied: tqdm<5.0.0,>=4.38.0 in /home/henry/anaconda3/envs/learn-env/lib/python3.8/site-packages (from spacy) (4.50.2)\n",
      "Collecting smart-open<7.0.0,>=5.2.1\n",
      "  Downloading smart_open-6.3.0-py3-none-any.whl (56 kB)\n",
      "\u001b[K     |████████████████████████████████| 56 kB 949 kB/s eta 0:00:01\n",
      "\u001b[?25hCollecting wasabi<1.2.0,>=0.9.1\n",
      "  Downloading wasabi-1.1.2-py3-none-any.whl (27 kB)\n",
      "Requirement already satisfied: requests<3.0.0,>=2.13.0 in /home/henry/anaconda3/envs/learn-env/lib/python3.8/site-packages (from spacy) (2.24.0)\n",
      "Collecting thinc<8.2.0,>=8.1.8\n",
      "  Downloading thinc-8.1.10-cp38-cp38-manylinux_2_17_x86_64.manylinux2014_x86_64.whl (928 kB)\n",
      "\u001b[K     |████████████████████████████████| 928 kB 1.2 MB/s eta 0:00:01\n",
      "\u001b[?25hCollecting preshed<3.1.0,>=3.0.2\n",
      "  Downloading preshed-3.0.8-cp38-cp38-manylinux_2_5_x86_64.manylinux1_x86_64.manylinux_2_17_x86_64.manylinux2014_x86_64.whl (130 kB)\n",
      "\u001b[K     |████████████████████████████████| 130 kB 1.1 MB/s eta 0:00:01\n",
      "\u001b[?25hRequirement already satisfied: numpy>=1.15.0 in /home/henry/anaconda3/envs/learn-env/lib/python3.8/site-packages (from spacy) (1.24.3)\n",
      "Collecting typer<0.8.0,>=0.3.0\n",
      "  Downloading typer-0.7.0-py3-none-any.whl (38 kB)\n",
      "Collecting pydantic!=1.8,!=1.8.1,<1.11.0,>=1.7.4\n",
      "  Downloading pydantic-1.10.9-cp38-cp38-manylinux_2_17_x86_64.manylinux2014_x86_64.whl (3.2 MB)\n",
      "\u001b[K     |████████████████████████████████| 3.2 MB 1.1 MB/s eta 0:00:01\n",
      "\u001b[?25hCollecting murmurhash<1.1.0,>=0.28.0\n",
      "  Downloading murmurhash-1.0.9-cp38-cp38-manylinux_2_5_x86_64.manylinux1_x86_64.manylinux_2_17_x86_64.manylinux2014_x86_64.whl (21 kB)\n",
      "Requirement already satisfied: setuptools in /home/henry/anaconda3/envs/learn-env/lib/python3.8/site-packages (from spacy) (50.3.0.post20201103)\n",
      "Collecting pathy>=0.10.0\n",
      "  Downloading pathy-0.10.1-py3-none-any.whl (48 kB)\n",
      "\u001b[K     |████████████████████████████████| 48 kB 979 kB/s eta 0:00:01\n",
      "\u001b[?25hCollecting catalogue<2.1.0,>=2.0.6\n",
      "  Downloading catalogue-2.0.8-py3-none-any.whl (17 kB)\n",
      "Collecting spacy-loggers<2.0.0,>=1.0.0\n",
      "  Downloading spacy_loggers-1.0.4-py3-none-any.whl (11 kB)\n",
      "Requirement already satisfied: packaging>=20.0 in /home/henry/anaconda3/envs/learn-env/lib/python3.8/site-packages (from spacy) (23.1)\n",
      "Requirement already satisfied: jinja2 in /home/henry/anaconda3/envs/learn-env/lib/python3.8/site-packages (from spacy) (2.11.2)\n",
      "Requirement already satisfied: urllib3!=1.25.0,!=1.25.1,<1.26,>=1.21.1 in /home/henry/anaconda3/envs/learn-env/lib/python3.8/site-packages (from requests<3.0.0,>=2.13.0->spacy) (1.25.10)\n",
      "Requirement already satisfied: certifi>=2017.4.17 in /home/henry/anaconda3/envs/learn-env/lib/python3.8/site-packages (from requests<3.0.0,>=2.13.0->spacy) (2022.12.7)\n",
      "Requirement already satisfied: chardet<4,>=3.0.2 in /home/henry/anaconda3/envs/learn-env/lib/python3.8/site-packages (from requests<3.0.0,>=2.13.0->spacy) (3.0.4)\n",
      "Requirement already satisfied: idna<3,>=2.5 in /home/henry/anaconda3/envs/learn-env/lib/python3.8/site-packages (from requests<3.0.0,>=2.13.0->spacy) (2.10)\n",
      "Collecting confection<1.0.0,>=0.0.1\n",
      "  Downloading confection-0.0.4-py3-none-any.whl (32 kB)\n",
      "Collecting blis<0.8.0,>=0.7.8\n",
      "  Downloading blis-0.7.9-cp38-cp38-manylinux_2_17_x86_64.manylinux2014_x86_64.whl (10.2 MB)\n",
      "\u001b[K     |████████████████████████████████| 10.2 MB 630 kB/s eta 0:00:01\n",
      "\u001b[?25hRequirement already satisfied: click<9.0.0,>=7.1.1 in /home/henry/anaconda3/envs/learn-env/lib/python3.8/site-packages (from typer<0.8.0,>=0.3.0->spacy) (7.1.2)\n",
      "Requirement already satisfied: typing-extensions>=4.2.0 in /home/henry/anaconda3/envs/learn-env/lib/python3.8/site-packages (from pydantic!=1.8,!=1.8.1,<1.11.0,>=1.7.4->spacy) (4.6.3)\n",
      "Requirement already satisfied: MarkupSafe>=0.23 in /home/henry/anaconda3/envs/learn-env/lib/python3.8/site-packages (from jinja2->spacy) (1.1.1)\n",
      "Installing collected packages: cymem, catalogue, srsly, spacy-legacy, langcodes, smart-open, wasabi, murmurhash, preshed, pydantic, confection, blis, thinc, typer, pathy, spacy-loggers, spacy\n",
      "  Attempting uninstall: smart-open\n",
      "    Found existing installation: smart-open 3.0.0\n",
      "    Uninstalling smart-open-3.0.0:\n",
      "      Successfully uninstalled smart-open-3.0.0\n",
      "Successfully installed blis-0.7.9 catalogue-2.0.8 confection-0.0.4 cymem-2.0.7 langcodes-3.3.0 murmurhash-1.0.9 pathy-0.10.1 preshed-3.0.8 pydantic-1.10.9 smart-open-6.3.0 spacy-3.5.3 spacy-legacy-3.0.12 spacy-loggers-1.0.4 srsly-2.4.6 thinc-8.1.10 typer-0.7.0 wasabi-1.1.2\n"
     ]
    }
   ],
   "source": [
    "!pip install spacy"
   ]
  },
  {
   "cell_type": "code",
   "execution_count": 3,
   "metadata": {},
   "outputs": [
    {
     "name": "stdout",
     "output_type": "stream",
     "text": [
      "Collecting en-core-web-sm==3.5.0\n",
      "  Downloading https://github.com/explosion/spacy-models/releases/download/en_core_web_sm-3.5.0/en_core_web_sm-3.5.0-py3-none-any.whl (12.8 MB)\n",
      "\u001b[K     |████████████████████████████████| 12.8 MB 685 kB/s eta 0:00:01\n",
      "\u001b[?25hRequirement already satisfied: spacy<3.6.0,>=3.5.0 in /home/henry/anaconda3/envs/learn-env/lib/python3.8/site-packages (from en-core-web-sm==3.5.0) (3.5.3)\n",
      "Requirement already satisfied: thinc<8.2.0,>=8.1.8 in /home/henry/anaconda3/envs/learn-env/lib/python3.8/site-packages (from spacy<3.6.0,>=3.5.0->en-core-web-sm==3.5.0) (8.1.10)\n",
      "Requirement already satisfied: catalogue<2.1.0,>=2.0.6 in /home/henry/anaconda3/envs/learn-env/lib/python3.8/site-packages (from spacy<3.6.0,>=3.5.0->en-core-web-sm==3.5.0) (2.0.8)\n",
      "Requirement already satisfied: setuptools in /home/henry/anaconda3/envs/learn-env/lib/python3.8/site-packages (from spacy<3.6.0,>=3.5.0->en-core-web-sm==3.5.0) (50.3.0.post20201103)\n",
      "Requirement already satisfied: cymem<2.1.0,>=2.0.2 in /home/henry/anaconda3/envs/learn-env/lib/python3.8/site-packages (from spacy<3.6.0,>=3.5.0->en-core-web-sm==3.5.0) (2.0.7)\n",
      "Requirement already satisfied: numpy>=1.15.0 in /home/henry/anaconda3/envs/learn-env/lib/python3.8/site-packages (from spacy<3.6.0,>=3.5.0->en-core-web-sm==3.5.0) (1.24.3)\n",
      "Requirement already satisfied: tqdm<5.0.0,>=4.38.0 in /home/henry/anaconda3/envs/learn-env/lib/python3.8/site-packages (from spacy<3.6.0,>=3.5.0->en-core-web-sm==3.5.0) (4.50.2)\n",
      "Requirement already satisfied: wasabi<1.2.0,>=0.9.1 in /home/henry/anaconda3/envs/learn-env/lib/python3.8/site-packages (from spacy<3.6.0,>=3.5.0->en-core-web-sm==3.5.0) (1.1.2)\n",
      "Requirement already satisfied: requests<3.0.0,>=2.13.0 in /home/henry/anaconda3/envs/learn-env/lib/python3.8/site-packages (from spacy<3.6.0,>=3.5.0->en-core-web-sm==3.5.0) (2.24.0)\n",
      "Requirement already satisfied: langcodes<4.0.0,>=3.2.0 in /home/henry/anaconda3/envs/learn-env/lib/python3.8/site-packages (from spacy<3.6.0,>=3.5.0->en-core-web-sm==3.5.0) (3.3.0)\n",
      "Requirement already satisfied: packaging>=20.0 in /home/henry/anaconda3/envs/learn-env/lib/python3.8/site-packages (from spacy<3.6.0,>=3.5.0->en-core-web-sm==3.5.0) (23.1)\n",
      "Requirement already satisfied: spacy-legacy<3.1.0,>=3.0.11 in /home/henry/anaconda3/envs/learn-env/lib/python3.8/site-packages (from spacy<3.6.0,>=3.5.0->en-core-web-sm==3.5.0) (3.0.12)\n",
      "Requirement already satisfied: murmurhash<1.1.0,>=0.28.0 in /home/henry/anaconda3/envs/learn-env/lib/python3.8/site-packages (from spacy<3.6.0,>=3.5.0->en-core-web-sm==3.5.0) (1.0.9)\n",
      "Requirement already satisfied: srsly<3.0.0,>=2.4.3 in /home/henry/anaconda3/envs/learn-env/lib/python3.8/site-packages (from spacy<3.6.0,>=3.5.0->en-core-web-sm==3.5.0) (2.4.6)\n",
      "Requirement already satisfied: preshed<3.1.0,>=3.0.2 in /home/henry/anaconda3/envs/learn-env/lib/python3.8/site-packages (from spacy<3.6.0,>=3.5.0->en-core-web-sm==3.5.0) (3.0.8)\n",
      "Requirement already satisfied: pydantic!=1.8,!=1.8.1,<1.11.0,>=1.7.4 in /home/henry/anaconda3/envs/learn-env/lib/python3.8/site-packages (from spacy<3.6.0,>=3.5.0->en-core-web-sm==3.5.0) (1.10.9)\n",
      "Requirement already satisfied: pathy>=0.10.0 in /home/henry/anaconda3/envs/learn-env/lib/python3.8/site-packages (from spacy<3.6.0,>=3.5.0->en-core-web-sm==3.5.0) (0.10.1)\n",
      "Requirement already satisfied: spacy-loggers<2.0.0,>=1.0.0 in /home/henry/anaconda3/envs/learn-env/lib/python3.8/site-packages (from spacy<3.6.0,>=3.5.0->en-core-web-sm==3.5.0) (1.0.4)\n",
      "Requirement already satisfied: typer<0.8.0,>=0.3.0 in /home/henry/anaconda3/envs/learn-env/lib/python3.8/site-packages (from spacy<3.6.0,>=3.5.0->en-core-web-sm==3.5.0) (0.7.0)\n",
      "Requirement already satisfied: jinja2 in /home/henry/anaconda3/envs/learn-env/lib/python3.8/site-packages (from spacy<3.6.0,>=3.5.0->en-core-web-sm==3.5.0) (2.11.2)\n",
      "Requirement already satisfied: smart-open<7.0.0,>=5.2.1 in /home/henry/anaconda3/envs/learn-env/lib/python3.8/site-packages (from spacy<3.6.0,>=3.5.0->en-core-web-sm==3.5.0) (6.3.0)\n",
      "Requirement already satisfied: confection<1.0.0,>=0.0.1 in /home/henry/anaconda3/envs/learn-env/lib/python3.8/site-packages (from thinc<8.2.0,>=8.1.8->spacy<3.6.0,>=3.5.0->en-core-web-sm==3.5.0) (0.0.4)\n",
      "Requirement already satisfied: blis<0.8.0,>=0.7.8 in /home/henry/anaconda3/envs/learn-env/lib/python3.8/site-packages (from thinc<8.2.0,>=8.1.8->spacy<3.6.0,>=3.5.0->en-core-web-sm==3.5.0) (0.7.9)\n",
      "Requirement already satisfied: chardet<4,>=3.0.2 in /home/henry/anaconda3/envs/learn-env/lib/python3.8/site-packages (from requests<3.0.0,>=2.13.0->spacy<3.6.0,>=3.5.0->en-core-web-sm==3.5.0) (3.0.4)\n",
      "Requirement already satisfied: certifi>=2017.4.17 in /home/henry/anaconda3/envs/learn-env/lib/python3.8/site-packages (from requests<3.0.0,>=2.13.0->spacy<3.6.0,>=3.5.0->en-core-web-sm==3.5.0) (2022.12.7)\n",
      "Requirement already satisfied: idna<3,>=2.5 in /home/henry/anaconda3/envs/learn-env/lib/python3.8/site-packages (from requests<3.0.0,>=2.13.0->spacy<3.6.0,>=3.5.0->en-core-web-sm==3.5.0) (2.10)\n",
      "Requirement already satisfied: urllib3!=1.25.0,!=1.25.1,<1.26,>=1.21.1 in /home/henry/anaconda3/envs/learn-env/lib/python3.8/site-packages (from requests<3.0.0,>=2.13.0->spacy<3.6.0,>=3.5.0->en-core-web-sm==3.5.0) (1.25.10)\n",
      "Requirement already satisfied: typing-extensions>=4.2.0 in /home/henry/anaconda3/envs/learn-env/lib/python3.8/site-packages (from pydantic!=1.8,!=1.8.1,<1.11.0,>=1.7.4->spacy<3.6.0,>=3.5.0->en-core-web-sm==3.5.0) (4.6.3)\n",
      "Requirement already satisfied: click<9.0.0,>=7.1.1 in /home/henry/anaconda3/envs/learn-env/lib/python3.8/site-packages (from typer<0.8.0,>=0.3.0->spacy<3.6.0,>=3.5.0->en-core-web-sm==3.5.0) (7.1.2)\n",
      "Requirement already satisfied: MarkupSafe>=0.23 in /home/henry/anaconda3/envs/learn-env/lib/python3.8/site-packages (from jinja2->spacy<3.6.0,>=3.5.0->en-core-web-sm==3.5.0) (1.1.1)\n",
      "Installing collected packages: en-core-web-sm\n",
      "Successfully installed en-core-web-sm-3.5.0\n",
      "\u001b[38;5;2m✔ Download and installation successful\u001b[0m\n",
      "You can now load the package via spacy.load('en_core_web_sm')\n"
     ]
    }
   ],
   "source": [
    "!python -m spacy download en_core_web_sm"
   ]
  },
  {
   "cell_type": "code",
   "execution_count": 4,
   "metadata": {},
   "outputs": [
    {
     "name": "stdout",
     "output_type": "stream",
     "text": [
      "Requirement already up-to-date: scikit-learn in /home/henry/anaconda3/envs/learn-env/lib/python3.8/site-packages (1.2.2)\n",
      "Requirement already satisfied, skipping upgrade: numpy>=1.17.3 in /home/henry/anaconda3/envs/learn-env/lib/python3.8/site-packages (from scikit-learn) (1.24.3)\n",
      "Requirement already satisfied, skipping upgrade: scipy>=1.3.2 in /home/henry/anaconda3/envs/learn-env/lib/python3.8/site-packages (from scikit-learn) (1.10.1)\n",
      "Requirement already satisfied, skipping upgrade: joblib>=1.1.1 in /home/henry/anaconda3/envs/learn-env/lib/python3.8/site-packages (from scikit-learn) (1.2.0)\n",
      "Requirement already satisfied, skipping upgrade: threadpoolctl>=2.0.0 in /home/henry/anaconda3/envs/learn-env/lib/python3.8/site-packages (from scikit-learn) (2.1.0)\n"
     ]
    }
   ],
   "source": [
    "!pip install --upgrade scikit-learn\n"
   ]
  },
  {
   "cell_type": "code",
   "execution_count": 6,
   "metadata": {},
   "outputs": [
    {
     "name": "stdout",
     "output_type": "stream",
     "text": [
      "Requirement already satisfied: nltk in /home/henry/anaconda3/envs/learn-env/lib/python3.8/site-packages (3.5)\n",
      "Requirement already satisfied: joblib in /home/henry/anaconda3/envs/learn-env/lib/python3.8/site-packages (from nltk) (1.2.0)\n",
      "Requirement already satisfied: regex in /home/henry/anaconda3/envs/learn-env/lib/python3.8/site-packages (from nltk) (2020.10.11)\n",
      "Requirement already satisfied: tqdm in /home/henry/anaconda3/envs/learn-env/lib/python3.8/site-packages (from nltk) (4.50.2)\n",
      "Requirement already satisfied: click in /home/henry/anaconda3/envs/learn-env/lib/python3.8/site-packages (from nltk) (7.1.2)\n"
     ]
    }
   ],
   "source": [
    "# !pip install nltk\n"
   ]
  },
  {
   "cell_type": "code",
   "execution_count": 8,
   "metadata": {},
   "outputs": [
    {
     "name": "stdout",
     "output_type": "stream",
     "text": [
      "Collecting tensorflow\n",
      "  Downloading tensorflow-2.12.0-cp38-cp38-manylinux_2_17_x86_64.manylinux2014_x86_64.whl (585.9 MB)\n",
      "\u001b[K     |████████████████████████████████| 585.9 MB 5.6 kB/s eta 0:00:014   |██▍                             | 44.5 MB 522 kB/s eta 0:17:16     |███                             | 56.4 MB 842 kB/s eta 0:10:29     |█████▊                          | 104.8 MB 359 kB/s eta 0:22:20     |█████████                       | 166.3 MB 341 kB/s eta 0:20:28     |████████████▌                   | 229.1 MB 342 kB/s eta 0:17:22     |█████████████▉                  | 253.3 MB 94 kB/s eta 0:58:48     |█████████████████               | 312.4 MB 618 kB/s eta 0:07:23     |███████████████████             | 348.2 MB 429 kB/s eta 0:09:14     |█████████████████████▏          | 387.6 MB 337 kB/s eta 0:09:49     |█████████████████████▎          | 388.6 MB 349 kB/s eta 0:09:24     |█████████████████████████▏      | 460.0 MB 116 kB/s eta 0:18:03     |██████████████████████████▍     | 483.3 MB 643 kB/s eta 0:02:40     |██████████████████████████▋     | 487.1 MB 579 kB/s eta 0:02:51\n",
      "\u001b[?25h\u001b[33mWARNING: Retrying (Retry(total=4, connect=None, read=None, redirect=None, status=None)) after connection broken by 'ReadTimeoutError(\"HTTPSConnectionPool(host='pypi.org', port=443): Read timed out. (read timeout=15)\")': /simple/flatbuffers/\u001b[0m\n",
      "Collecting flatbuffers>=2.0\n",
      "  Downloading flatbuffers-23.5.26-py2.py3-none-any.whl (26 kB)\n",
      "Collecting wrapt<1.15,>=1.11.0\n",
      "  Downloading wrapt-1.14.1-cp38-cp38-manylinux_2_5_x86_64.manylinux1_x86_64.manylinux_2_17_x86_64.manylinux2014_x86_64.whl (81 kB)\n",
      "\u001b[K     |████████████████████████████████| 81 kB 326 kB/s eta 0:00:01\n",
      "\u001b[?25hRequirement already satisfied: typing-extensions>=3.6.6 in /home/henry/anaconda3/envs/learn-env/lib/python3.8/site-packages (from tensorflow) (4.6.3)\n",
      "Collecting tensorflow-estimator<2.13,>=2.12.0\n",
      "  Downloading tensorflow_estimator-2.12.0-py2.py3-none-any.whl (440 kB)\n",
      "\u001b[K     |████████████████████████████████| 440 kB 289 kB/s eta 0:00:01\n",
      "\u001b[?25hRequirement already satisfied: packaging in /home/henry/anaconda3/envs/learn-env/lib/python3.8/site-packages (from tensorflow) (23.1)\n",
      "Collecting opt-einsum>=2.3.2\n",
      "  Using cached opt_einsum-3.3.0-py3-none-any.whl (65 kB)\n",
      "Collecting absl-py>=1.0.0\n",
      "  Downloading absl_py-1.4.0-py3-none-any.whl (126 kB)\n",
      "\u001b[K     |████████████████████████████████| 126 kB 365 kB/s eta 0:00:01\n",
      "\u001b[?25hCollecting numpy<1.24,>=1.22\n",
      "  Downloading numpy-1.23.5-cp38-cp38-manylinux_2_17_x86_64.manylinux2014_x86_64.whl (17.1 MB)\n",
      "\u001b[K     |████████████████████████████████| 17.1 MB 793 kB/s eta 0:00:01     |█████████████████████████████▎  | 15.6 MB 1.2 MB/s eta 0:00:02\n",
      "\u001b[?25hCollecting tensorflow-io-gcs-filesystem>=0.23.1; platform_machine != \"arm64\" or platform_system != \"Darwin\"\n",
      "  Downloading tensorflow_io_gcs_filesystem-0.32.0-cp38-cp38-manylinux_2_12_x86_64.manylinux2010_x86_64.whl (2.4 MB)\n",
      "\u001b[K     |████████████████████████████████| 2.4 MB 272 kB/s eta 0:00:01\n",
      "\u001b[?25hCollecting termcolor>=1.1.0\n",
      "  Downloading termcolor-2.3.0-py3-none-any.whl (6.9 kB)\n",
      "Collecting h5py>=2.9.0\n",
      "  Downloading h5py-3.8.0-cp38-cp38-manylinux_2_17_x86_64.manylinux2014_x86_64.whl (4.7 MB)\n",
      "\u001b[K     |████████████████████████████████| 4.7 MB 521 kB/s eta 0:00:01\n",
      "\u001b[?25hCollecting astunparse>=1.6.0\n",
      "  Using cached astunparse-1.6.3-py2.py3-none-any.whl (12 kB)\n",
      "Collecting google-pasta>=0.1.1\n",
      "  Using cached google_pasta-0.2.0-py3-none-any.whl (57 kB)\n",
      "Requirement already satisfied: six>=1.12.0 in /home/henry/anaconda3/envs/learn-env/lib/python3.8/site-packages (from tensorflow) (1.15.0)\n",
      "Collecting protobuf!=4.21.0,!=4.21.1,!=4.21.2,!=4.21.3,!=4.21.4,!=4.21.5,<5.0.0dev,>=3.20.3\n",
      "  Downloading protobuf-4.23.2-cp37-abi3-manylinux2014_x86_64.whl (304 kB)\n",
      "\u001b[K     |████████████████████████████████| 304 kB 547 kB/s eta 0:00:01\n",
      "\u001b[?25hRequirement already satisfied: grpcio<2.0,>=1.24.3 in /home/henry/anaconda3/envs/learn-env/lib/python3.8/site-packages (from tensorflow) (1.31.0)\n",
      "Collecting keras<2.13,>=2.12.0\n",
      "  Downloading keras-2.12.0-py2.py3-none-any.whl (1.7 MB)\n",
      "\u001b[K     |████████████████████████████████| 1.7 MB 1.2 MB/s eta 0:00:01\n",
      "\u001b[?25hCollecting libclang>=13.0.0\n",
      "  Downloading libclang-16.0.0-py2.py3-none-manylinux2010_x86_64.whl (22.9 MB)\n",
      "\u001b[K     |████████████████████████████████| 22.9 MB 632 kB/s eta 0:00:01    |██████████▋                     | 7.6 MB 750 kB/s eta 0:00:21\n",
      "\u001b[?25hRequirement already satisfied: setuptools in /home/henry/anaconda3/envs/learn-env/lib/python3.8/site-packages (from tensorflow) (50.3.0.post20201103)\n",
      "Collecting jax>=0.3.15\n",
      "  Downloading jax-0.4.12.tar.gz (1.3 MB)\n",
      "\u001b[K     |████████████████████████████████| 1.3 MB 556 kB/s eta 0:00:01\n",
      "\u001b[?25h  Installing build dependencies ... \u001b[?25ldone\n",
      "\u001b[?25h  Getting requirements to build wheel ... \u001b[?25ldone\n",
      "\u001b[?25h    Preparing wheel metadata ... \u001b[?25ldone\n",
      "\u001b[?25hCollecting gast<=0.4.0,>=0.2.1\n",
      "  Downloading gast-0.4.0-py3-none-any.whl (9.8 kB)\n",
      "Collecting tensorboard<2.13,>=2.12\n",
      "  Downloading tensorboard-2.12.3-py3-none-any.whl (5.6 MB)\n",
      "\u001b[K     |████████████████████████████████| 5.6 MB 583 kB/s eta 0:00:01\n",
      "\u001b[?25hRequirement already satisfied: wheel<1.0,>=0.23.0 in /home/henry/anaconda3/envs/learn-env/lib/python3.8/site-packages (from astunparse>=1.6.0->tensorflow) (0.35.1)\n",
      "Collecting ml-dtypes>=0.1.0\n",
      "  Downloading ml_dtypes-0.2.0-cp38-cp38-manylinux_2_17_x86_64.manylinux2014_x86_64.whl (1.0 MB)\n",
      "\u001b[K     |████████████████████████████████| 1.0 MB 1.3 MB/s eta 0:00:01\n",
      "\u001b[?25hCollecting importlib-metadata>=4.6; python_version < \"3.10\"\n",
      "  Downloading importlib_metadata-6.6.0-py3-none-any.whl (22 kB)\n",
      "Requirement already satisfied: scipy>=1.7 in /home/henry/anaconda3/envs/learn-env/lib/python3.8/site-packages (from jax>=0.3.15->tensorflow) (1.10.1)\n",
      "Requirement already satisfied: google-auth<3,>=1.6.3 in /home/henry/anaconda3/envs/learn-env/lib/python3.8/site-packages (from tensorboard<2.13,>=2.12->tensorflow) (1.22.0)\n",
      "Collecting tensorboard-data-server<0.8.0,>=0.7.0\n",
      "  Downloading tensorboard_data_server-0.7.1-py3-none-manylinux2014_x86_64.whl (6.6 MB)\n",
      "\u001b[K     |████████████████████████████████| 6.6 MB 769 kB/s eta 0:00:01\n",
      "\u001b[?25hCollecting werkzeug>=1.0.1\n",
      "  Downloading Werkzeug-2.3.6-py3-none-any.whl (242 kB)\n",
      "\u001b[K     |████████████████████████████████| 242 kB 898 kB/s eta 0:00:01\n",
      "\u001b[?25hRequirement already satisfied: requests<3,>=2.21.0 in /home/henry/anaconda3/envs/learn-env/lib/python3.8/site-packages (from tensorboard<2.13,>=2.12->tensorflow) (2.24.0)\n",
      "Collecting markdown>=2.6.8\n",
      "  Downloading Markdown-3.4.3-py3-none-any.whl (93 kB)\n",
      "\u001b[K     |████████████████████████████████| 93 kB 429 kB/s eta 0:00:01\n",
      "\u001b[?25hCollecting google-auth-oauthlib<1.1,>=0.5\n",
      "  Downloading google_auth_oauthlib-1.0.0-py2.py3-none-any.whl (18 kB)\n",
      "Requirement already satisfied: zipp>=0.5 in /home/henry/anaconda3/envs/learn-env/lib/python3.8/site-packages (from importlib-metadata>=4.6; python_version < \"3.10\"->jax>=0.3.15->tensorflow) (3.3.0)\n",
      "Requirement already satisfied: aiohttp<4.0.0dev,>=3.6.2; python_version >= \"3.6\" in /home/henry/anaconda3/envs/learn-env/lib/python3.8/site-packages (from google-auth<3,>=1.6.3->tensorboard<2.13,>=2.12->tensorflow) (3.6.2)\n",
      "Requirement already satisfied: rsa<5,>=3.1.4; python_version >= \"3.5\" in /home/henry/anaconda3/envs/learn-env/lib/python3.8/site-packages (from google-auth<3,>=1.6.3->tensorboard<2.13,>=2.12->tensorflow) (4.6)\n",
      "Requirement already satisfied: pyasn1-modules>=0.2.1 in /home/henry/anaconda3/envs/learn-env/lib/python3.8/site-packages (from google-auth<3,>=1.6.3->tensorboard<2.13,>=2.12->tensorflow) (0.2.7)\n",
      "Requirement already satisfied: cachetools<5.0,>=2.0.0 in /home/henry/anaconda3/envs/learn-env/lib/python3.8/site-packages (from google-auth<3,>=1.6.3->tensorboard<2.13,>=2.12->tensorflow) (4.1.1)\n",
      "Collecting MarkupSafe>=2.1.1\n",
      "  Downloading MarkupSafe-2.1.3-cp38-cp38-manylinux_2_17_x86_64.manylinux2014_x86_64.whl (25 kB)\n",
      "Requirement already satisfied: certifi>=2017.4.17 in /home/henry/anaconda3/envs/learn-env/lib/python3.8/site-packages (from requests<3,>=2.21.0->tensorboard<2.13,>=2.12->tensorflow) (2022.12.7)\n",
      "Requirement already satisfied: idna<3,>=2.5 in /home/henry/anaconda3/envs/learn-env/lib/python3.8/site-packages (from requests<3,>=2.21.0->tensorboard<2.13,>=2.12->tensorflow) (2.10)\n",
      "Requirement already satisfied: chardet<4,>=3.0.2 in /home/henry/anaconda3/envs/learn-env/lib/python3.8/site-packages (from requests<3,>=2.21.0->tensorboard<2.13,>=2.12->tensorflow) (3.0.4)\n",
      "Requirement already satisfied: urllib3!=1.25.0,!=1.25.1,<1.26,>=1.21.1 in /home/henry/anaconda3/envs/learn-env/lib/python3.8/site-packages (from requests<3,>=2.21.0->tensorboard<2.13,>=2.12->tensorflow) (1.25.10)\n",
      "Collecting requests-oauthlib>=0.7.0\n",
      "  Downloading requests_oauthlib-1.3.1-py2.py3-none-any.whl (23 kB)\n",
      "Requirement already satisfied: async-timeout<4.0,>=3.0 in /home/henry/anaconda3/envs/learn-env/lib/python3.8/site-packages (from aiohttp<4.0.0dev,>=3.6.2; python_version >= \"3.6\"->google-auth<3,>=1.6.3->tensorboard<2.13,>=2.12->tensorflow) (3.0.1)\n",
      "Requirement already satisfied: multidict<5.0,>=4.5 in /home/henry/anaconda3/envs/learn-env/lib/python3.8/site-packages (from aiohttp<4.0.0dev,>=3.6.2; python_version >= \"3.6\"->google-auth<3,>=1.6.3->tensorboard<2.13,>=2.12->tensorflow) (4.7.5)\n",
      "Requirement already satisfied: attrs>=17.3.0 in /home/henry/anaconda3/envs/learn-env/lib/python3.8/site-packages (from aiohttp<4.0.0dev,>=3.6.2; python_version >= \"3.6\"->google-auth<3,>=1.6.3->tensorboard<2.13,>=2.12->tensorflow) (20.2.0)\n",
      "Requirement already satisfied: yarl<2.0,>=1.0 in /home/henry/anaconda3/envs/learn-env/lib/python3.8/site-packages (from aiohttp<4.0.0dev,>=3.6.2; python_version >= \"3.6\"->google-auth<3,>=1.6.3->tensorboard<2.13,>=2.12->tensorflow) (1.6.2)\n",
      "Requirement already satisfied: pyasn1>=0.1.3 in /home/henry/anaconda3/envs/learn-env/lib/python3.8/site-packages (from rsa<5,>=3.1.4; python_version >= \"3.5\"->google-auth<3,>=1.6.3->tensorboard<2.13,>=2.12->tensorflow) (0.4.8)\n",
      "Collecting oauthlib>=3.0.0\n",
      "  Downloading oauthlib-3.2.2-py3-none-any.whl (151 kB)\n",
      "\u001b[K     |████████████████████████████████| 151 kB 685 kB/s eta 0:00:01\n",
      "\u001b[?25hBuilding wheels for collected packages: jax\n",
      "  Building wheel for jax (PEP 517) ... \u001b[?25ldone\n",
      "\u001b[?25h  Created wheel for jax: filename=jax-0.4.12-py3-none-any.whl size=1498447 sha256=f8a8842db901bf32c76d020f0d13146be21b92281fe1568b8a6cb19213060a5e\n",
      "  Stored in directory: /home/henry/.cache/pip/wheels/cd/5a/a8/88d7a5c8d35f5a5e9cddec186ce76d5e303e0462d8a6c827bb\n",
      "Successfully built jax\n",
      "Installing collected packages: flatbuffers, wrapt, tensorflow-estimator, numpy, opt-einsum, absl-py, tensorflow-io-gcs-filesystem, termcolor, h5py, astunparse, google-pasta, protobuf, keras, libclang, ml-dtypes, importlib-metadata, jax, gast, tensorboard-data-server, MarkupSafe, werkzeug, markdown, oauthlib, requests-oauthlib, google-auth-oauthlib, tensorboard, tensorflow\n",
      "  Attempting uninstall: numpy\n",
      "    Found existing installation: numpy 1.24.3\n",
      "    Uninstalling numpy-1.24.3:\n",
      "      Successfully uninstalled numpy-1.24.3\n",
      "  Attempting uninstall: protobuf\n",
      "    Found existing installation: protobuf 3.13.0\n",
      "    Uninstalling protobuf-3.13.0:\n",
      "      Successfully uninstalled protobuf-3.13.0\n",
      "  Attempting uninstall: importlib-metadata\n",
      "    Found existing installation: importlib-metadata 2.0.0\n",
      "    Uninstalling importlib-metadata-2.0.0:\n",
      "      Successfully uninstalled importlib-metadata-2.0.0\n",
      "  Attempting uninstall: MarkupSafe\n",
      "    Found existing installation: MarkupSafe 1.1.1\n",
      "    Uninstalling MarkupSafe-1.1.1:\n",
      "      Successfully uninstalled MarkupSafe-1.1.1\n",
      "\u001b[31mERROR: After October 2020 you may experience errors when installing or updating packages. This is because pip will change the way that it resolves dependency conflicts.\n",
      "\n",
      "We recommend you use --use-feature=2020-resolver to test your packages with the new resolver before it becomes the default.\n",
      "\n",
      "fbprophet 0.7.1 requires cmdstanpy==0.9.5, which is not installed.\n",
      "imageio 2.31.1 requires pillow>=8.3.2, but you'll have pillow 7.2.0 which is incompatible.\n",
      "google-auth-oauthlib 1.0.0 requires google-auth>=2.15.0, but you'll have google-auth 1.22.0 which is incompatible.\n",
      "tensorboard 2.12.3 requires grpcio>=1.48.2, but you'll have grpcio 1.31.0 which is incompatible.\u001b[0m\n",
      "Successfully installed MarkupSafe-2.1.3 absl-py-1.4.0 astunparse-1.6.3 flatbuffers-23.5.26 gast-0.4.0 google-auth-oauthlib-1.0.0 google-pasta-0.2.0 h5py-3.8.0 importlib-metadata-6.6.0 jax-0.4.12 keras-2.12.0 libclang-16.0.0 markdown-3.4.3 ml-dtypes-0.2.0 numpy-1.23.5 oauthlib-3.2.2 opt-einsum-3.3.0 protobuf-4.23.2 requests-oauthlib-1.3.1 tensorboard-2.12.3 tensorboard-data-server-0.7.1 tensorflow-2.12.0 tensorflow-estimator-2.12.0 tensorflow-io-gcs-filesystem-0.32.0 termcolor-2.3.0 werkzeug-2.3.6 wrapt-1.14.1\n"
     ]
    }
   ],
   "source": [
    "!pip install tensorflow\n"
   ]
  },
  {
   "cell_type": "code",
   "execution_count": 9,
   "metadata": {},
   "outputs": [
    {
     "name": "stdout",
     "output_type": "stream",
     "text": [
      "Requirement already satisfied: tensorflow in /home/henry/anaconda3/envs/learn-env/lib/python3.8/site-packages (2.12.0)\n",
      "Requirement already satisfied: packaging in /home/henry/anaconda3/envs/learn-env/lib/python3.8/site-packages (from tensorflow) (23.1)\n",
      "Requirement already satisfied: grpcio<2.0,>=1.24.3 in /home/henry/anaconda3/envs/learn-env/lib/python3.8/site-packages (from tensorflow) (1.31.0)\n",
      "Requirement already satisfied: setuptools in /home/henry/anaconda3/envs/learn-env/lib/python3.8/site-packages (from tensorflow) (50.3.0.post20201103)\n",
      "Requirement already satisfied: gast<=0.4.0,>=0.2.1 in /home/henry/anaconda3/envs/learn-env/lib/python3.8/site-packages (from tensorflow) (0.4.0)\n",
      "Requirement already satisfied: opt-einsum>=2.3.2 in /home/henry/anaconda3/envs/learn-env/lib/python3.8/site-packages (from tensorflow) (3.3.0)\n",
      "Requirement already satisfied: google-pasta>=0.1.1 in /home/henry/anaconda3/envs/learn-env/lib/python3.8/site-packages (from tensorflow) (0.2.0)\n",
      "Requirement already satisfied: absl-py>=1.0.0 in /home/henry/anaconda3/envs/learn-env/lib/python3.8/site-packages (from tensorflow) (1.4.0)\n",
      "Requirement already satisfied: wrapt<1.15,>=1.11.0 in /home/henry/anaconda3/envs/learn-env/lib/python3.8/site-packages (from tensorflow) (1.14.1)\n",
      "Requirement already satisfied: tensorflow-io-gcs-filesystem>=0.23.1; platform_machine != \"arm64\" or platform_system != \"Darwin\" in /home/henry/anaconda3/envs/learn-env/lib/python3.8/site-packages (from tensorflow) (0.32.0)\n",
      "Requirement already satisfied: tensorflow-estimator<2.13,>=2.12.0 in /home/henry/anaconda3/envs/learn-env/lib/python3.8/site-packages (from tensorflow) (2.12.0)\n",
      "Requirement already satisfied: protobuf!=4.21.0,!=4.21.1,!=4.21.2,!=4.21.3,!=4.21.4,!=4.21.5,<5.0.0dev,>=3.20.3 in /home/henry/anaconda3/envs/learn-env/lib/python3.8/site-packages (from tensorflow) (4.23.2)\n",
      "Requirement already satisfied: typing-extensions>=3.6.6 in /home/henry/anaconda3/envs/learn-env/lib/python3.8/site-packages (from tensorflow) (4.6.3)\n",
      "Requirement already satisfied: astunparse>=1.6.0 in /home/henry/anaconda3/envs/learn-env/lib/python3.8/site-packages (from tensorflow) (1.6.3)\n",
      "Requirement already satisfied: termcolor>=1.1.0 in /home/henry/anaconda3/envs/learn-env/lib/python3.8/site-packages (from tensorflow) (2.3.0)\n",
      "Requirement already satisfied: jax>=0.3.15 in /home/henry/anaconda3/envs/learn-env/lib/python3.8/site-packages (from tensorflow) (0.4.12)\n",
      "Requirement already satisfied: numpy<1.24,>=1.22 in /home/henry/anaconda3/envs/learn-env/lib/python3.8/site-packages (from tensorflow) (1.23.5)\n",
      "Requirement already satisfied: six>=1.12.0 in /home/henry/anaconda3/envs/learn-env/lib/python3.8/site-packages (from tensorflow) (1.15.0)\n",
      "Requirement already satisfied: tensorboard<2.13,>=2.12 in /home/henry/anaconda3/envs/learn-env/lib/python3.8/site-packages (from tensorflow) (2.12.3)\n",
      "Requirement already satisfied: flatbuffers>=2.0 in /home/henry/anaconda3/envs/learn-env/lib/python3.8/site-packages (from tensorflow) (23.5.26)\n",
      "Requirement already satisfied: libclang>=13.0.0 in /home/henry/anaconda3/envs/learn-env/lib/python3.8/site-packages (from tensorflow) (16.0.0)\n",
      "Requirement already satisfied: h5py>=2.9.0 in /home/henry/anaconda3/envs/learn-env/lib/python3.8/site-packages (from tensorflow) (3.8.0)\n",
      "Requirement already satisfied: keras<2.13,>=2.12.0 in /home/henry/anaconda3/envs/learn-env/lib/python3.8/site-packages (from tensorflow) (2.12.0)\n",
      "Requirement already satisfied: wheel<1.0,>=0.23.0 in /home/henry/anaconda3/envs/learn-env/lib/python3.8/site-packages (from astunparse>=1.6.0->tensorflow) (0.35.1)\n",
      "Requirement already satisfied: scipy>=1.7 in /home/henry/anaconda3/envs/learn-env/lib/python3.8/site-packages (from jax>=0.3.15->tensorflow) (1.10.1)\n",
      "Requirement already satisfied: importlib-metadata>=4.6; python_version < \"3.10\" in /home/henry/anaconda3/envs/learn-env/lib/python3.8/site-packages (from jax>=0.3.15->tensorflow) (6.6.0)\n",
      "Requirement already satisfied: ml-dtypes>=0.1.0 in /home/henry/anaconda3/envs/learn-env/lib/python3.8/site-packages (from jax>=0.3.15->tensorflow) (0.2.0)\n",
      "Requirement already satisfied: google-auth-oauthlib<1.1,>=0.5 in /home/henry/anaconda3/envs/learn-env/lib/python3.8/site-packages (from tensorboard<2.13,>=2.12->tensorflow) (1.0.0)\n",
      "Requirement already satisfied: requests<3,>=2.21.0 in /home/henry/anaconda3/envs/learn-env/lib/python3.8/site-packages (from tensorboard<2.13,>=2.12->tensorflow) (2.24.0)\n",
      "Requirement already satisfied: tensorboard-data-server<0.8.0,>=0.7.0 in /home/henry/anaconda3/envs/learn-env/lib/python3.8/site-packages (from tensorboard<2.13,>=2.12->tensorflow) (0.7.1)\n",
      "Requirement already satisfied: google-auth<3,>=1.6.3 in /home/henry/anaconda3/envs/learn-env/lib/python3.8/site-packages (from tensorboard<2.13,>=2.12->tensorflow) (1.22.0)\n",
      "Requirement already satisfied: werkzeug>=1.0.1 in /home/henry/anaconda3/envs/learn-env/lib/python3.8/site-packages (from tensorboard<2.13,>=2.12->tensorflow) (2.3.6)\n",
      "Requirement already satisfied: markdown>=2.6.8 in /home/henry/anaconda3/envs/learn-env/lib/python3.8/site-packages (from tensorboard<2.13,>=2.12->tensorflow) (3.4.3)\n",
      "Requirement already satisfied: zipp>=0.5 in /home/henry/anaconda3/envs/learn-env/lib/python3.8/site-packages (from importlib-metadata>=4.6; python_version < \"3.10\"->jax>=0.3.15->tensorflow) (3.3.0)\n",
      "Requirement already satisfied: requests-oauthlib>=0.7.0 in /home/henry/anaconda3/envs/learn-env/lib/python3.8/site-packages (from google-auth-oauthlib<1.1,>=0.5->tensorboard<2.13,>=2.12->tensorflow) (1.3.1)\n",
      "Requirement already satisfied: urllib3!=1.25.0,!=1.25.1,<1.26,>=1.21.1 in /home/henry/anaconda3/envs/learn-env/lib/python3.8/site-packages (from requests<3,>=2.21.0->tensorboard<2.13,>=2.12->tensorflow) (1.25.10)\n",
      "Requirement already satisfied: certifi>=2017.4.17 in /home/henry/anaconda3/envs/learn-env/lib/python3.8/site-packages (from requests<3,>=2.21.0->tensorboard<2.13,>=2.12->tensorflow) (2022.12.7)\n",
      "Requirement already satisfied: idna<3,>=2.5 in /home/henry/anaconda3/envs/learn-env/lib/python3.8/site-packages (from requests<3,>=2.21.0->tensorboard<2.13,>=2.12->tensorflow) (2.10)\n",
      "Requirement already satisfied: chardet<4,>=3.0.2 in /home/henry/anaconda3/envs/learn-env/lib/python3.8/site-packages (from requests<3,>=2.21.0->tensorboard<2.13,>=2.12->tensorflow) (3.0.4)\n",
      "Requirement already satisfied: cachetools<5.0,>=2.0.0 in /home/henry/anaconda3/envs/learn-env/lib/python3.8/site-packages (from google-auth<3,>=1.6.3->tensorboard<2.13,>=2.12->tensorflow) (4.1.1)\n",
      "Requirement already satisfied: pyasn1-modules>=0.2.1 in /home/henry/anaconda3/envs/learn-env/lib/python3.8/site-packages (from google-auth<3,>=1.6.3->tensorboard<2.13,>=2.12->tensorflow) (0.2.7)\n",
      "Requirement already satisfied: aiohttp<4.0.0dev,>=3.6.2; python_version >= \"3.6\" in /home/henry/anaconda3/envs/learn-env/lib/python3.8/site-packages (from google-auth<3,>=1.6.3->tensorboard<2.13,>=2.12->tensorflow) (3.6.2)\n",
      "Requirement already satisfied: rsa<5,>=3.1.4; python_version >= \"3.5\" in /home/henry/anaconda3/envs/learn-env/lib/python3.8/site-packages (from google-auth<3,>=1.6.3->tensorboard<2.13,>=2.12->tensorflow) (4.6)\n",
      "Requirement already satisfied: MarkupSafe>=2.1.1 in /home/henry/anaconda3/envs/learn-env/lib/python3.8/site-packages (from werkzeug>=1.0.1->tensorboard<2.13,>=2.12->tensorflow) (2.1.3)\n",
      "Requirement already satisfied: oauthlib>=3.0.0 in /home/henry/anaconda3/envs/learn-env/lib/python3.8/site-packages (from requests-oauthlib>=0.7.0->google-auth-oauthlib<1.1,>=0.5->tensorboard<2.13,>=2.12->tensorflow) (3.2.2)\n",
      "Requirement already satisfied: pyasn1<0.5.0,>=0.4.6 in /home/henry/anaconda3/envs/learn-env/lib/python3.8/site-packages (from pyasn1-modules>=0.2.1->google-auth<3,>=1.6.3->tensorboard<2.13,>=2.12->tensorflow) (0.4.8)\n",
      "Requirement already satisfied: attrs>=17.3.0 in /home/henry/anaconda3/envs/learn-env/lib/python3.8/site-packages (from aiohttp<4.0.0dev,>=3.6.2; python_version >= \"3.6\"->google-auth<3,>=1.6.3->tensorboard<2.13,>=2.12->tensorflow) (20.2.0)\n",
      "Requirement already satisfied: yarl<2.0,>=1.0 in /home/henry/anaconda3/envs/learn-env/lib/python3.8/site-packages (from aiohttp<4.0.0dev,>=3.6.2; python_version >= \"3.6\"->google-auth<3,>=1.6.3->tensorboard<2.13,>=2.12->tensorflow) (1.6.2)\n",
      "Requirement already satisfied: multidict<5.0,>=4.5 in /home/henry/anaconda3/envs/learn-env/lib/python3.8/site-packages (from aiohttp<4.0.0dev,>=3.6.2; python_version >= \"3.6\"->google-auth<3,>=1.6.3->tensorboard<2.13,>=2.12->tensorflow) (4.7.5)\n",
      "Requirement already satisfied: async-timeout<4.0,>=3.0 in /home/henry/anaconda3/envs/learn-env/lib/python3.8/site-packages (from aiohttp<4.0.0dev,>=3.6.2; python_version >= \"3.6\"->google-auth<3,>=1.6.3->tensorboard<2.13,>=2.12->tensorflow) (3.0.1)\n"
     ]
    }
   ],
   "source": [
    "# !pip install tensorflow\n"
   ]
  },
  {
   "cell_type": "code",
   "execution_count": 10,
   "metadata": {},
   "outputs": [
    {
     "name": "stdout",
     "output_type": "stream",
     "text": [
      "Requirement already satisfied: keras in /home/henry/anaconda3/envs/learn-env/lib/python3.8/site-packages (2.12.0)\n"
     ]
    }
   ],
   "source": [
    "# !pip install keras"
   ]
  },
  {
   "cell_type": "code",
   "execution_count": 12,
   "metadata": {},
   "outputs": [
    {
     "name": "stdout",
     "output_type": "stream",
     "text": [
      "Collecting pip\n",
      "  Downloading pip-23.1.2-py3-none-any.whl (2.1 MB)\n",
      "\u001b[K     |████████████████████████████████| 2.1 MB 638 kB/s eta 0:00:01\n",
      "\u001b[?25hInstalling collected packages: pip\n",
      "  Attempting uninstall: pip\n",
      "    Found existing installation: pip 20.2.3\n",
      "    Uninstalling pip-20.2.3:\n",
      "      Successfully uninstalled pip-20.2.3\n",
      "Successfully installed pip-23.1.2\n"
     ]
    }
   ],
   "source": [
    "# !pip install --upgrade pip"
   ]
  },
  {
   "cell_type": "code",
   "execution_count": 1,
   "metadata": {},
   "outputs": [
    {
     "name": "stdout",
     "output_type": "stream",
     "text": [
      "Requirement already satisfied: tensorflow in /home/henry/anaconda3/envs/learn-env/lib/python3.8/site-packages (2.12.0)\n",
      "Requirement already satisfied: absl-py>=1.0.0 in /home/henry/anaconda3/envs/learn-env/lib/python3.8/site-packages (from tensorflow) (1.4.0)\n",
      "Requirement already satisfied: astunparse>=1.6.0 in /home/henry/anaconda3/envs/learn-env/lib/python3.8/site-packages (from tensorflow) (1.6.3)\n",
      "Requirement already satisfied: flatbuffers>=2.0 in /home/henry/anaconda3/envs/learn-env/lib/python3.8/site-packages (from tensorflow) (23.5.26)\n",
      "Requirement already satisfied: gast<=0.4.0,>=0.2.1 in /home/henry/anaconda3/envs/learn-env/lib/python3.8/site-packages (from tensorflow) (0.4.0)\n",
      "Requirement already satisfied: google-pasta>=0.1.1 in /home/henry/anaconda3/envs/learn-env/lib/python3.8/site-packages (from tensorflow) (0.2.0)\n",
      "Requirement already satisfied: grpcio<2.0,>=1.24.3 in /home/henry/anaconda3/envs/learn-env/lib/python3.8/site-packages (from tensorflow) (1.31.0)\n",
      "Requirement already satisfied: h5py>=2.9.0 in /home/henry/anaconda3/envs/learn-env/lib/python3.8/site-packages (from tensorflow) (3.8.0)\n",
      "Requirement already satisfied: jax>=0.3.15 in /home/henry/anaconda3/envs/learn-env/lib/python3.8/site-packages (from tensorflow) (0.4.12)\n",
      "Requirement already satisfied: keras<2.13,>=2.12.0 in /home/henry/anaconda3/envs/learn-env/lib/python3.8/site-packages (from tensorflow) (2.12.0)\n",
      "Requirement already satisfied: libclang>=13.0.0 in /home/henry/anaconda3/envs/learn-env/lib/python3.8/site-packages (from tensorflow) (16.0.0)\n",
      "Requirement already satisfied: numpy<1.24,>=1.22 in /home/henry/anaconda3/envs/learn-env/lib/python3.8/site-packages (from tensorflow) (1.23.5)\n",
      "Requirement already satisfied: opt-einsum>=2.3.2 in /home/henry/anaconda3/envs/learn-env/lib/python3.8/site-packages (from tensorflow) (3.3.0)\n",
      "Requirement already satisfied: packaging in /home/henry/anaconda3/envs/learn-env/lib/python3.8/site-packages (from tensorflow) (23.1)\n",
      "Requirement already satisfied: protobuf!=4.21.0,!=4.21.1,!=4.21.2,!=4.21.3,!=4.21.4,!=4.21.5,<5.0.0dev,>=3.20.3 in /home/henry/anaconda3/envs/learn-env/lib/python3.8/site-packages (from tensorflow) (4.23.3)\n",
      "Requirement already satisfied: setuptools in /home/henry/anaconda3/envs/learn-env/lib/python3.8/site-packages (from tensorflow) (50.3.0.post20201103)\n",
      "Requirement already satisfied: six>=1.12.0 in /home/henry/anaconda3/envs/learn-env/lib/python3.8/site-packages (from tensorflow) (1.15.0)\n",
      "Requirement already satisfied: tensorboard<2.13,>=2.12 in /home/henry/anaconda3/envs/learn-env/lib/python3.8/site-packages (from tensorflow) (2.12.3)\n",
      "Requirement already satisfied: tensorflow-estimator<2.13,>=2.12.0 in /home/henry/anaconda3/envs/learn-env/lib/python3.8/site-packages (from tensorflow) (2.12.0)\n",
      "Requirement already satisfied: termcolor>=1.1.0 in /home/henry/anaconda3/envs/learn-env/lib/python3.8/site-packages (from tensorflow) (2.3.0)\n",
      "Requirement already satisfied: typing-extensions>=3.6.6 in /home/henry/anaconda3/envs/learn-env/lib/python3.8/site-packages (from tensorflow) (4.6.3)\n",
      "Requirement already satisfied: wrapt<1.15,>=1.11.0 in /home/henry/anaconda3/envs/learn-env/lib/python3.8/site-packages (from tensorflow) (1.14.1)\n",
      "Requirement already satisfied: tensorflow-io-gcs-filesystem>=0.23.1 in /home/henry/anaconda3/envs/learn-env/lib/python3.8/site-packages (from tensorflow) (0.32.0)\n",
      "Requirement already satisfied: wheel<1.0,>=0.23.0 in /home/henry/anaconda3/envs/learn-env/lib/python3.8/site-packages (from astunparse>=1.6.0->tensorflow) (0.35.1)\n",
      "Requirement already satisfied: ml-dtypes>=0.1.0 in /home/henry/anaconda3/envs/learn-env/lib/python3.8/site-packages (from jax>=0.3.15->tensorflow) (0.2.0)\n",
      "Requirement already satisfied: scipy>=1.7 in /home/henry/anaconda3/envs/learn-env/lib/python3.8/site-packages (from jax>=0.3.15->tensorflow) (1.10.1)\n",
      "Requirement already satisfied: importlib-metadata>=4.6 in /home/henry/anaconda3/envs/learn-env/lib/python3.8/site-packages (from jax>=0.3.15->tensorflow) (6.6.0)\n",
      "Collecting grpcio<2.0,>=1.24.3 (from tensorflow)\n",
      "  Downloading grpcio-1.54.2-cp38-cp38-manylinux_2_17_x86_64.manylinux2014_x86_64.whl (5.1 MB)\n",
      "\u001b[2K     \u001b[90m━━━━━━━━━━━━━━━━━━━━━━━━━━━━━━━━━━━━━━━━\u001b[0m \u001b[32m5.1/5.1 MB\u001b[0m \u001b[31m906.8 kB/s\u001b[0m eta \u001b[36m0:00:00\u001b[0m00:01\u001b[0m00:01\u001b[0m\n",
      "\u001b[?25hRequirement already satisfied: google-auth<3,>=1.6.3 in /home/henry/anaconda3/envs/learn-env/lib/python3.8/site-packages (from tensorboard<2.13,>=2.12->tensorflow) (1.22.0)\n",
      "Requirement already satisfied: google-auth-oauthlib<1.1,>=0.5 in /home/henry/anaconda3/envs/learn-env/lib/python3.8/site-packages (from tensorboard<2.13,>=2.12->tensorflow) (1.0.0)\n",
      "Requirement already satisfied: markdown>=2.6.8 in /home/henry/anaconda3/envs/learn-env/lib/python3.8/site-packages (from tensorboard<2.13,>=2.12->tensorflow) (3.4.3)\n",
      "Requirement already satisfied: requests<3,>=2.21.0 in /home/henry/anaconda3/envs/learn-env/lib/python3.8/site-packages (from tensorboard<2.13,>=2.12->tensorflow) (2.24.0)\n",
      "Requirement already satisfied: tensorboard-data-server<0.8.0,>=0.7.0 in /home/henry/anaconda3/envs/learn-env/lib/python3.8/site-packages (from tensorboard<2.13,>=2.12->tensorflow) (0.7.1)\n",
      "Requirement already satisfied: werkzeug>=1.0.1 in /home/henry/anaconda3/envs/learn-env/lib/python3.8/site-packages (from tensorboard<2.13,>=2.12->tensorflow) (2.3.6)\n",
      "Requirement already satisfied: cachetools<5.0,>=2.0.0 in /home/henry/anaconda3/envs/learn-env/lib/python3.8/site-packages (from google-auth<3,>=1.6.3->tensorboard<2.13,>=2.12->tensorflow) (4.1.1)\n",
      "Requirement already satisfied: pyasn1-modules>=0.2.1 in /home/henry/anaconda3/envs/learn-env/lib/python3.8/site-packages (from google-auth<3,>=1.6.3->tensorboard<2.13,>=2.12->tensorflow) (0.2.7)\n",
      "Requirement already satisfied: rsa<5,>=3.1.4 in /home/henry/anaconda3/envs/learn-env/lib/python3.8/site-packages (from google-auth<3,>=1.6.3->tensorboard<2.13,>=2.12->tensorflow) (4.6)\n",
      "Requirement already satisfied: aiohttp<4.0.0dev,>=3.6.2 in /home/henry/anaconda3/envs/learn-env/lib/python3.8/site-packages (from google-auth<3,>=1.6.3->tensorboard<2.13,>=2.12->tensorflow) (3.6.2)\n",
      "Collecting google-auth<3,>=1.6.3 (from tensorboard<2.13,>=2.12->tensorflow)\n",
      "  Downloading google_auth-2.20.0-py2.py3-none-any.whl (181 kB)\n",
      "\u001b[2K     \u001b[90m━━━━━━━━━━━━━━━━━━━━━━━━━━━━━━━━━━━━━\u001b[0m \u001b[32m181.5/181.5 kB\u001b[0m \u001b[31m764.1 kB/s\u001b[0m eta \u001b[36m0:00:00\u001b[0ma \u001b[36m0:00:01\u001b[0m\n",
      "\u001b[?25hRequirement already satisfied: requests-oauthlib>=0.7.0 in /home/henry/anaconda3/envs/learn-env/lib/python3.8/site-packages (from google-auth-oauthlib<1.1,>=0.5->tensorboard<2.13,>=2.12->tensorflow) (1.3.1)\n",
      "Requirement already satisfied: urllib3<2.0 in /home/henry/anaconda3/envs/learn-env/lib/python3.8/site-packages (from google-auth<3,>=1.6.3->tensorboard<2.13,>=2.12->tensorflow) (1.25.10)\n",
      "Requirement already satisfied: zipp>=0.5 in /home/henry/anaconda3/envs/learn-env/lib/python3.8/site-packages (from importlib-metadata>=4.6->jax>=0.3.15->tensorflow) (3.3.0)\n",
      "Requirement already satisfied: chardet<4,>=3.0.2 in /home/henry/anaconda3/envs/learn-env/lib/python3.8/site-packages (from requests<3,>=2.21.0->tensorboard<2.13,>=2.12->tensorflow) (3.0.4)\n",
      "Requirement already satisfied: idna<3,>=2.5 in /home/henry/anaconda3/envs/learn-env/lib/python3.8/site-packages (from requests<3,>=2.21.0->tensorboard<2.13,>=2.12->tensorflow) (2.10)\n",
      "Requirement already satisfied: certifi>=2017.4.17 in /home/henry/anaconda3/envs/learn-env/lib/python3.8/site-packages (from requests<3,>=2.21.0->tensorboard<2.13,>=2.12->tensorflow) (2022.12.7)\n",
      "Requirement already satisfied: MarkupSafe>=2.1.1 in /home/henry/anaconda3/envs/learn-env/lib/python3.8/site-packages (from werkzeug>=1.0.1->tensorboard<2.13,>=2.12->tensorflow) (2.1.3)\n",
      "Requirement already satisfied: pyasn1<0.5.0,>=0.4.6 in /home/henry/anaconda3/envs/learn-env/lib/python3.8/site-packages (from pyasn1-modules>=0.2.1->google-auth<3,>=1.6.3->tensorboard<2.13,>=2.12->tensorflow) (0.4.8)\n",
      "Requirement already satisfied: oauthlib>=3.0.0 in /home/henry/anaconda3/envs/learn-env/lib/python3.8/site-packages (from requests-oauthlib>=0.7.0->google-auth-oauthlib<1.1,>=0.5->tensorboard<2.13,>=2.12->tensorflow) (3.2.2)\n",
      "Requirement already satisfied: attrs>=17.3.0 in /home/henry/anaconda3/envs/learn-env/lib/python3.8/site-packages (from aiohttp<4.0.0dev,>=3.6.2->google-auth<3,>=1.6.3->tensorboard<2.13,>=2.12->tensorflow) (20.2.0)\n",
      "Requirement already satisfied: multidict<5.0,>=4.5 in /home/henry/anaconda3/envs/learn-env/lib/python3.8/site-packages (from aiohttp<4.0.0dev,>=3.6.2->google-auth<3,>=1.6.3->tensorboard<2.13,>=2.12->tensorflow) (4.7.5)\n",
      "Requirement already satisfied: async-timeout<4.0,>=3.0 in /home/henry/anaconda3/envs/learn-env/lib/python3.8/site-packages (from aiohttp<4.0.0dev,>=3.6.2->google-auth<3,>=1.6.3->tensorboard<2.13,>=2.12->tensorflow) (3.0.1)\n",
      "Requirement already satisfied: yarl<2.0,>=1.0 in /home/henry/anaconda3/envs/learn-env/lib/python3.8/site-packages (from aiohttp<4.0.0dev,>=3.6.2->google-auth<3,>=1.6.3->tensorboard<2.13,>=2.12->tensorflow) (1.6.2)\n",
      "Installing collected packages: grpcio, google-auth\n",
      "  Attempting uninstall: grpcio\n",
      "    Found existing installation: grpcio 1.31.0\n",
      "    Uninstalling grpcio-1.31.0:\n",
      "      Successfully uninstalled grpcio-1.31.0\n",
      "  Attempting uninstall: google-auth\n",
      "    Found existing installation: google-auth 1.22.0\n",
      "    Uninstalling google-auth-1.22.0:\n",
      "      Successfully uninstalled google-auth-1.22.0\n",
      "\u001b[31mERROR: pip's dependency resolver does not currently take into account all the packages that are installed. This behaviour is the source of the following dependency conflicts.\n",
      "google-api-core 1.22.4 requires google-auth<2.0dev,>=1.21.1, but you have google-auth 2.20.0 which is incompatible.\n",
      "google-cloud-storage 1.31.2 requires google-auth<2.0dev,>=1.11.0, but you have google-auth 2.20.0 which is incompatible.\u001b[0m\u001b[31m\n",
      "\u001b[0mSuccessfully installed google-auth-2.20.0 grpcio-1.54.2\n"
     ]
    }
   ],
   "source": [
    "# !pip install tensorflow"
   ]
  },
  {
   "cell_type": "code",
   "execution_count": 3,
   "metadata": {},
   "outputs": [
    {
     "name": "stdout",
     "output_type": "stream",
     "text": [
      "\u001b[31mERROR: Could not find a version that satisfies the requirement python==3.8.5 (from versions: none)\u001b[0m\u001b[31m\n",
      "\u001b[0m\u001b[31mERROR: No matching distribution found for python==3.8.5\u001b[0m\u001b[31m\n",
      "\u001b[0m"
     ]
    }
   ],
   "source": [
    "# !pip install python==3.8.5"
   ]
  },
  {
   "cell_type": "code",
   "execution_count": 20,
   "metadata": {},
   "outputs": [
    {
     "name": "stdout",
     "output_type": "stream",
     "text": [
      "Requirement already satisfied: pip in /home/henry/anaconda3/envs/learn-env/lib/python3.8/site-packages (23.1.2)\n"
     ]
    }
   ],
   "source": [
    "# !python -m pip install -U pip"
   ]
  },
  {
   "cell_type": "code",
   "execution_count": 26,
   "metadata": {},
   "outputs": [
    {
     "name": "stdout",
     "output_type": "stream",
     "text": [
      "Requirement already satisfied: protobuf in /home/henry/anaconda3/envs/learn-env/lib/python3.8/site-packages (3.20.1)\n",
      "Collecting protobuf\n",
      "  Downloading protobuf-4.23.3-cp37-abi3-manylinux2014_x86_64.whl (304 kB)\n",
      "\u001b[2K     \u001b[90m━━━━━━━━━━━━━━━━━━━━━━━━━━━━━━━━━━━━━\u001b[0m \u001b[32m304.5/304.5 kB\u001b[0m \u001b[31m456.7 kB/s\u001b[0m eta \u001b[36m0:00:00\u001b[0m00:01\u001b[0m00:01\u001b[0m\n",
      "\u001b[?25hInstalling collected packages: protobuf\n",
      "  Attempting uninstall: protobuf\n",
      "    Found existing installation: protobuf 3.20.1\n",
      "    Uninstalling protobuf-3.20.1:\n",
      "      Successfully uninstalled protobuf-3.20.1\n",
      "\u001b[31mERROR: pip's dependency resolver does not currently take into account all the packages that are installed. This behaviour is the source of the following dependency conflicts.\n",
      "tensorboard 2.12.3 requires grpcio>=1.48.2, but you have grpcio 1.31.0 which is incompatible.\u001b[0m\u001b[31m\n",
      "\u001b[0mSuccessfully installed protobuf-4.23.3\n"
     ]
    }
   ],
   "source": [
    "# !pip uninstall --yes protobuf\n",
    "# !pip install --upgrade protobuf"
   ]
  },
  {
   "cell_type": "code",
   "execution_count": null,
   "metadata": {},
   "outputs": [],
   "source": [
    "# !pip install --upgrade google-api-core google-cloud-storage"
   ]
  },
  {
   "cell_type": "code",
   "execution_count": 1,
   "metadata": {},
   "outputs": [
    {
     "name": "stdout",
     "output_type": "stream",
     "text": [
      "Requirement already satisfied: spacy in /home/henry/anaconda3/envs/learn-env/lib/python3.8/site-packages (3.5.3)\n",
      "Requirement already satisfied: markupsafe in /home/henry/anaconda3/envs/learn-env/lib/python3.8/site-packages (2.1.3)\n",
      "Requirement already satisfied: spacy-legacy<3.1.0,>=3.0.11 in /home/henry/anaconda3/envs/learn-env/lib/python3.8/site-packages (from spacy) (3.0.12)\n",
      "Requirement already satisfied: spacy-loggers<2.0.0,>=1.0.0 in /home/henry/anaconda3/envs/learn-env/lib/python3.8/site-packages (from spacy) (1.0.4)\n",
      "Requirement already satisfied: murmurhash<1.1.0,>=0.28.0 in /home/henry/anaconda3/envs/learn-env/lib/python3.8/site-packages (from spacy) (1.0.9)\n",
      "Requirement already satisfied: cymem<2.1.0,>=2.0.2 in /home/henry/anaconda3/envs/learn-env/lib/python3.8/site-packages (from spacy) (2.0.7)\n",
      "Requirement already satisfied: preshed<3.1.0,>=3.0.2 in /home/henry/anaconda3/envs/learn-env/lib/python3.8/site-packages (from spacy) (3.0.8)\n",
      "Requirement already satisfied: thinc<8.2.0,>=8.1.8 in /home/henry/anaconda3/envs/learn-env/lib/python3.8/site-packages (from spacy) (8.1.10)\n",
      "Requirement already satisfied: wasabi<1.2.0,>=0.9.1 in /home/henry/anaconda3/envs/learn-env/lib/python3.8/site-packages (from spacy) (1.1.2)\n",
      "Requirement already satisfied: srsly<3.0.0,>=2.4.3 in /home/henry/anaconda3/envs/learn-env/lib/python3.8/site-packages (from spacy) (2.4.6)\n",
      "Requirement already satisfied: catalogue<2.1.0,>=2.0.6 in /home/henry/anaconda3/envs/learn-env/lib/python3.8/site-packages (from spacy) (2.0.8)\n",
      "Requirement already satisfied: typer<0.8.0,>=0.3.0 in /home/henry/anaconda3/envs/learn-env/lib/python3.8/site-packages (from spacy) (0.7.0)\n",
      "Requirement already satisfied: pathy>=0.10.0 in /home/henry/anaconda3/envs/learn-env/lib/python3.8/site-packages (from spacy) (0.10.1)\n",
      "Requirement already satisfied: smart-open<7.0.0,>=5.2.1 in /home/henry/anaconda3/envs/learn-env/lib/python3.8/site-packages (from spacy) (6.3.0)\n",
      "Requirement already satisfied: tqdm<5.0.0,>=4.38.0 in /home/henry/anaconda3/envs/learn-env/lib/python3.8/site-packages (from spacy) (4.50.2)\n",
      "Requirement already satisfied: numpy>=1.15.0 in /home/henry/anaconda3/envs/learn-env/lib/python3.8/site-packages (from spacy) (1.23.5)\n",
      "Requirement already satisfied: requests<3.0.0,>=2.13.0 in /home/henry/anaconda3/envs/learn-env/lib/python3.8/site-packages (from spacy) (2.24.0)\n",
      "Requirement already satisfied: pydantic!=1.8,!=1.8.1,<1.11.0,>=1.7.4 in /home/henry/anaconda3/envs/learn-env/lib/python3.8/site-packages (from spacy) (1.10.9)\n",
      "Requirement already satisfied: jinja2 in /home/henry/anaconda3/envs/learn-env/lib/python3.8/site-packages (from spacy) (2.11.2)\n",
      "Requirement already satisfied: setuptools in /home/henry/anaconda3/envs/learn-env/lib/python3.8/site-packages (from spacy) (50.3.0.post20201103)\n",
      "Requirement already satisfied: packaging>=20.0 in /home/henry/anaconda3/envs/learn-env/lib/python3.8/site-packages (from spacy) (23.1)\n",
      "Requirement already satisfied: langcodes<4.0.0,>=3.2.0 in /home/henry/anaconda3/envs/learn-env/lib/python3.8/site-packages (from spacy) (3.3.0)\n",
      "Requirement already satisfied: typing-extensions>=4.2.0 in /home/henry/anaconda3/envs/learn-env/lib/python3.8/site-packages (from pydantic!=1.8,!=1.8.1,<1.11.0,>=1.7.4->spacy) (4.6.3)\n",
      "Requirement already satisfied: chardet<4,>=3.0.2 in /home/henry/anaconda3/envs/learn-env/lib/python3.8/site-packages (from requests<3.0.0,>=2.13.0->spacy) (3.0.4)\n",
      "Requirement already satisfied: idna<3,>=2.5 in /home/henry/anaconda3/envs/learn-env/lib/python3.8/site-packages (from requests<3.0.0,>=2.13.0->spacy) (2.10)\n",
      "Requirement already satisfied: urllib3!=1.25.0,!=1.25.1,<1.26,>=1.21.1 in /home/henry/anaconda3/envs/learn-env/lib/python3.8/site-packages (from requests<3.0.0,>=2.13.0->spacy) (1.25.10)\n",
      "Requirement already satisfied: certifi>=2017.4.17 in /home/henry/anaconda3/envs/learn-env/lib/python3.8/site-packages (from requests<3.0.0,>=2.13.0->spacy) (2022.12.7)\n",
      "Requirement already satisfied: blis<0.8.0,>=0.7.8 in /home/henry/anaconda3/envs/learn-env/lib/python3.8/site-packages (from thinc<8.2.0,>=8.1.8->spacy) (0.7.9)\n",
      "Requirement already satisfied: confection<1.0.0,>=0.0.1 in /home/henry/anaconda3/envs/learn-env/lib/python3.8/site-packages (from thinc<8.2.0,>=8.1.8->spacy) (0.0.4)\n",
      "Requirement already satisfied: click<9.0.0,>=7.1.1 in /home/henry/anaconda3/envs/learn-env/lib/python3.8/site-packages (from typer<0.8.0,>=0.3.0->spacy) (7.1.2)\n"
     ]
    }
   ],
   "source": [
    "# !pip install spacy markupsafe\n"
   ]
  },
  {
   "cell_type": "code",
   "execution_count": 2,
   "metadata": {},
   "outputs": [
    {
     "name": "stdout",
     "output_type": "stream",
     "text": [
      "Collecting more_itertools\n",
      "  Downloading more_itertools-9.1.0-py3-none-any.whl (54 kB)\n",
      "\u001b[2K     \u001b[90m━━━━━━━━━━━━━━━━━━━━━━━━━━━━━━━━━━━━━━━\u001b[0m \u001b[32m54.2/54.2 kB\u001b[0m \u001b[31m218.8 kB/s\u001b[0m eta \u001b[36m0:00:00\u001b[0ma \u001b[36m0:00:01\u001b[0m\n",
      "\u001b[?25hInstalling collected packages: more_itertools\n",
      "Successfully installed more_itertools-9.1.0\n"
     ]
    }
   ],
   "source": [
    "!pip install more_itertools"
   ]
  },
  {
   "cell_type": "code",
   "execution_count": 6,
   "metadata": {},
   "outputs": [
    {
     "name": "stdout",
     "output_type": "stream",
     "text": [
      "Collecting scikit-optimize\n",
      "  Downloading scikit_optimize-0.9.0-py2.py3-none-any.whl (100 kB)\n",
      "\u001b[2K     \u001b[90m━━━━━━━━━━━━━━━━━━━━━━━━━━━━━━━━━━━━━\u001b[0m \u001b[32m100.3/100.3 kB\u001b[0m \u001b[31m558.5 kB/s\u001b[0m eta \u001b[36m0:00:00\u001b[0ma \u001b[36m0:00:01\u001b[0m\n",
      "\u001b[?25hRequirement already satisfied: joblib>=0.11 in /home/henry/anaconda3/envs/learn-env/lib/python3.8/site-packages (from scikit-optimize) (1.2.0)\n",
      "Collecting pyaml>=16.9 (from scikit-optimize)\n",
      "  Downloading pyaml-23.5.9-py3-none-any.whl (17 kB)\n",
      "Requirement already satisfied: numpy>=1.13.3 in /home/henry/anaconda3/envs/learn-env/lib/python3.8/site-packages (from scikit-optimize) (1.23.5)\n",
      "Requirement already satisfied: scipy>=0.19.1 in /home/henry/anaconda3/envs/learn-env/lib/python3.8/site-packages (from scikit-optimize) (1.10.1)\n",
      "Requirement already satisfied: scikit-learn>=0.20.0 in /home/henry/anaconda3/envs/learn-env/lib/python3.8/site-packages (from scikit-optimize) (1.2.2)\n",
      "Requirement already satisfied: PyYAML in /home/henry/anaconda3/envs/learn-env/lib/python3.8/site-packages (from pyaml>=16.9->scikit-optimize) (5.3.1)\n",
      "Requirement already satisfied: threadpoolctl>=2.0.0 in /home/henry/anaconda3/envs/learn-env/lib/python3.8/site-packages (from scikit-learn>=0.20.0->scikit-optimize) (2.1.0)\n",
      "Installing collected packages: pyaml, scikit-optimize\n",
      "Successfully installed pyaml-23.5.9 scikit-optimize-0.9.0\n"
     ]
    }
   ],
   "source": [
    "!pip install scikit-optimize\n"
   ]
  },
  {
   "cell_type": "code",
   "execution_count": null,
   "metadata": {},
   "outputs": [],
   "source": []
  }
 ],
 "metadata": {
  "kernelspec": {
   "display_name": "learn-env",
   "language": "python",
   "name": "python3"
  },
  "language_info": {
   "codemirror_mode": {
    "name": "ipython",
    "version": 3
   },
   "file_extension": ".py",
   "mimetype": "text/x-python",
   "name": "python",
   "nbconvert_exporter": "python",
   "pygments_lexer": "ipython3",
   "version": "3.8.5"
  },
  "orig_nbformat": 4
 },
 "nbformat": 4,
 "nbformat_minor": 2
}
